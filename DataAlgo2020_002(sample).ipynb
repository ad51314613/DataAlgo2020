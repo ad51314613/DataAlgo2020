{
  "nbformat": 4,
  "nbformat_minor": 0,
  "metadata": {
    "colab": {
      "name": "DataAlgo2020-002(sample).ipynb",
      "provenance": [],
      "authorship_tag": "ABX9TyMk5z/+KDCZF5FZIgxy9x2y",
      "include_colab_link": true
    },
    "kernelspec": {
      "name": "python3",
      "display_name": "Python 3"
    }
  },
  "cells": [
    {
      "cell_type": "markdown",
      "metadata": {
        "id": "view-in-github",
        "colab_type": "text"
      },
      "source": [
        "<a href=\"https://colab.research.google.com/github/kameda-yoshinari/DataAlgo2020/blob/master/DataAlgo2020_002(sample).ipynb\" target=\"_parent\"><img src=\"https://colab.research.google.com/assets/colab-badge.svg\" alt=\"Open In Colab\"/></a>"
      ]
    },
    {
      "cell_type": "markdown",
      "metadata": {
        "id": "i2vKNOZ1ecz8",
        "colab_type": "text"
      },
      "source": [
        "# GitHubとの接続テストという名目の何か\n",
        "\n",
        "ここの内容は授業とは直接関係ありません．  \n",
        "そういうのが好きそうな学生向け．"
      ]
    },
    {
      "cell_type": "markdown",
      "metadata": {
        "id": "pNb8UTvw7tyK",
        "colab_type": "text"
      },
      "source": [
        "# 日本に住んでいるので日本時間表示\n",
        "\n",
        "ランタイム接続でずっと日本時間表示して欲しい方はどうぞ．\n",
        "\n",
        "（日本の大学での授業で使うので日本時間表示が好ましい）"
      ]
    },
    {
      "cell_type": "code",
      "metadata": {
        "id": "dIGnoX537xlj",
        "colab_type": "code",
        "outputId": "763d863b-042c-4a00-f24d-c69aed183364",
        "colab": {
          "base_uri": "https://localhost:8080/",
          "height": 85
        }
      },
      "source": [
        "!echo \"デフォルトの時間表示 / UTC\"\n",
        "!date\n",
        "!echo \"日本時間表示 / JST\"\n",
        "!rm /etc/localtime\n",
        "!ln -s /usr/share/zoneinfo/Japan /etc/localtime\n",
        "!date"
      ],
      "execution_count": 1,
      "outputs": [
        {
          "output_type": "stream",
          "text": [
            "デフォルトの時間表示 / UTC\n",
            "Tue May 19 09:36:39 UTC 2020\n",
            "日本時間表示 / JST\n",
            "Tue May 19 18:36:44 JST 2020\n"
          ],
          "name": "stdout"
        }
      ]
    },
    {
      "cell_type": "markdown",
      "metadata": {
        "id": "iUmd631kKXO3",
        "colab_type": "text"
      },
      "source": [
        "# ランタイム接続先の仕様\n",
        "\n",
        "Google colaboratoryの仕様などを調べるコマンドなど．（学生実験なので高スペック不要）"
      ]
    },
    {
      "cell_type": "code",
      "metadata": {
        "id": "0ygOMeguebow",
        "colab_type": "code",
        "outputId": "b07afa6a-37be-47c5-ca0e-da57c419952e",
        "colab": {
          "base_uri": "https://localhost:8080/",
          "height": 34
        }
      },
      "source": [
        "!uname -a"
      ],
      "execution_count": 2,
      "outputs": [
        {
          "output_type": "stream",
          "text": [
            "Linux d317c660bd5e 4.19.104+ #1 SMP Wed Feb 19 05:26:34 PST 2020 x86_64 x86_64 x86_64 GNU/Linux\n"
          ],
          "name": "stdout"
        }
      ]
    },
    {
      "cell_type": "markdown",
      "metadata": {
        "id": "a6hlHsTsSGe7",
        "colab_type": "text"
      },
      "source": [
        "Linuxですね．もう少し詳しく．"
      ]
    },
    {
      "cell_type": "code",
      "metadata": {
        "id": "-7unrEXgKoNG",
        "colab_type": "code",
        "colab": {
          "base_uri": "https://localhost:8080/",
          "height": 238
        },
        "outputId": "8cf7ead7-1a7a-4126-8534-8e6c3aaf0ab0"
      },
      "source": [
        "!echo \"Distribution is ...\"\n",
        "!cat /etc/issue\n",
        "!echo \"CPUs are ---\"\n",
        "!cat /proc/cpuinfo | grep \"model name\"\n",
        "!echo \"Memory size is ---\"\n",
        "!free -h\n",
        "!echo \"Disk is ---\"\n",
        "!df -h /"
      ],
      "execution_count": 3,
      "outputs": [
        {
          "output_type": "stream",
          "text": [
            "Distribution is ...\n",
            "Ubuntu 18.04.3 LTS \\n \\l\n",
            "\n",
            "CPUs are ---\n",
            "model name\t: Intel(R) Xeon(R) CPU @ 2.30GHz\n",
            "model name\t: Intel(R) Xeon(R) CPU @ 2.30GHz\n",
            "Memory size is ---\n",
            "              total        used        free      shared  buff/cache   available\n",
            "Mem:            12G        537M         10G        904K        2.0G         11G\n",
            "Swap:            0B          0B          0B\n",
            "Disk is ---\n",
            "Filesystem      Size  Used Avail Use% Mounted on\n",
            "overlay         108G   32G   72G  31% /\n"
          ],
          "name": "stdout"
        }
      ]
    },
    {
      "cell_type": "markdown",
      "metadata": {
        "id": "x-ZOzPbeMRWI",
        "colab_type": "text"
      },
      "source": [
        "Google driveをマウントするなら．"
      ]
    },
    {
      "cell_type": "code",
      "metadata": {
        "id": "8OuIz-i8MV3H",
        "colab_type": "code",
        "colab": {
          "base_uri": "https://localhost:8080/",
          "height": 173
        },
        "outputId": "b1fa8431-8948-48ab-cac5-91c604b8fa3a"
      },
      "source": [
        "from google.colab import drive \n",
        "drive.mount('/content/drive')\n",
        "!echo \"Disk (your google drive if mounted) is ---\"\n",
        "!df -h /content/drive"
      ],
      "execution_count": 4,
      "outputs": [
        {
          "output_type": "stream",
          "text": [
            "Go to this URL in a browser: https://accounts.google.com/o/oauth2/auth?client_id=947318989803-6bn6qk8qdgf4n4g3pfee6491hc0brc4i.apps.googleusercontent.com&redirect_uri=urn%3aietf%3awg%3aoauth%3a2.0%3aoob&response_type=code&scope=email%20https%3a%2f%2fwww.googleapis.com%2fauth%2fdocs.test%20https%3a%2f%2fwww.googleapis.com%2fauth%2fdrive%20https%3a%2f%2fwww.googleapis.com%2fauth%2fdrive.photos.readonly%20https%3a%2f%2fwww.googleapis.com%2fauth%2fpeopleapi.readonly\n",
            "\n",
            "Enter your authorization code:\n",
            "··········\n",
            "Mounted at /content/drive\n",
            "Disk (your google drive if mounted) is ---\n",
            "Filesystem      Size  Used Avail Use% Mounted on\n",
            "drive           108G   41G   68G  38% /content/drive\n"
          ],
          "name": "stdout"
        }
      ]
    },
    {
      "cell_type": "markdown",
      "metadata": {
        "id": "4iTDDEOEN37F",
        "colab_type": "text"
      },
      "source": [
        "ちなみにどうでもいいことですが，Ipythonはroot権限で実行しているので，当該ランタイム接続上ではなんでもやりたい放題です．（この授業ではしないですが，Deep Learning系で必要になるツールの追加インストールなども簡単）"
      ]
    },
    {
      "cell_type": "code",
      "metadata": {
        "id": "_hjA6QokMylR",
        "colab_type": "code",
        "colab": {
          "base_uri": "https://localhost:8080/",
          "height": 34
        },
        "outputId": "758c024c-ef40-480d-ade0-9d7af00e72cb"
      },
      "source": [
        "!whoami"
      ],
      "execution_count": 5,
      "outputs": [
        {
          "output_type": "stream",
          "text": [
            "root\n"
          ],
          "name": "stdout"
        }
      ]
    },
    {
      "cell_type": "markdown",
      "metadata": {
        "id": "xvSRyzmYO1Aq",
        "colab_type": "text"
      },
      "source": [
        "# マークダウンお得情報\n",
        "\n",
        "意外にあんまり書かれてないのですが，連続した文章中での改行はMarkdown記法的に\n",
        "\n",
        "* スペース２個を文末に設置（文末以外では無効）\n",
        "\n",
        "です．&lt;br&gt;でっ！という記述もあって間違っては無い(空行挿入というのもあるのですが個人的に却下)のですが，Markdown記法からは外れているので，ipynbの変換先によっては無視されたりして哀しい想いをすることあるかも．  \n",
        "これは結構闇深い問題で，markdown / new line / line break / newline / two space / double space / render ぐらいで検索すると闇のココロを持ったgeekに一歩近づけることでしょう‥\n"
      ]
    },
    {
      "cell_type": "markdown",
      "metadata": {
        "id": "_1GNjUd3m21U",
        "colab_type": "text"
      },
      "source": [
        "# 出典\n",
        "\n",
        "筑波大学工学システム学類  \n",
        "データ構造とアルゴリズム  \n",
        "担当：亀田能成  \n",
        "2020/05/19.\n"
      ]
    }
  ]
}