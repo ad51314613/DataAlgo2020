{
  "nbformat": 4,
  "nbformat_minor": 0,
  "metadata": {
    "colab": {
      "name": "DataAlgo2020-002(sample).ipynb",
      "provenance": [],
      "authorship_tag": "ABX9TyOOuJKKwkCGTeXQL3mqll1U",
      "include_colab_link": true
    },
    "kernelspec": {
      "name": "python3",
      "display_name": "Python 3"
    }
  },
  "cells": [
    {
      "cell_type": "markdown",
      "metadata": {
        "id": "view-in-github",
        "colab_type": "text"
      },
      "source": [
        "<a href=\"https://colab.research.google.com/github/kameda-yoshinari/DataAlgo2020/blob/master/DataAlgo2020_002(sample).ipynb\" target=\"_parent\"><img src=\"https://colab.research.google.com/assets/colab-badge.svg\" alt=\"Open In Colab\"/></a>"
      ]
    },
    {
      "cell_type": "markdown",
      "metadata": {
        "id": "i2vKNOZ1ecz8",
        "colab_type": "text"
      },
      "source": [
        "# GitHubとの接続テスト\n",
        "\n",
        "中身無し．"
      ]
    },
    {
      "cell_type": "code",
      "metadata": {
        "id": "0ygOMeguebow",
        "colab_type": "code",
        "outputId": "d11c8b0b-313c-4cd3-f818-1db8ba09d293",
        "colab": {
          "base_uri": "https://localhost:8080/",
          "height": 34
        }
      },
      "source": [
        "!uname -a"
      ],
      "execution_count": 2,
      "outputs": [
        {
          "output_type": "stream",
          "text": [
            "Linux 71a2d35d3f4d 4.19.104+ #1 SMP Wed Feb 19 05:26:34 PST 2020 x86_64 x86_64 x86_64 GNU/Linux\n"
          ],
          "name": "stdout"
        }
      ]
    },
    {
      "cell_type": "markdown",
      "metadata": {
        "id": "pNb8UTvw7tyK",
        "colab_type": "text"
      },
      "source": [
        "# 日本に住んでいるので日本時間表示\n",
        "\n",
        "何かないと寂しいので．\n",
        "ランタイム接続でずっと日本時間表示して欲しい方はどうぞ．\n",
        "\n",
        "（日本の大学での授業で使うので日本時間表示が好ましい）"
      ]
    },
    {
      "cell_type": "code",
      "metadata": {
        "id": "dIGnoX537xlj",
        "colab_type": "code",
        "outputId": "7961fd4e-48c9-48b5-e683-f739283b0bd5",
        "colab": {
          "base_uri": "https://localhost:8080/",
          "height": 85
        }
      },
      "source": [
        "!echo \"デフォルトの時間表示 / UTC\"\n",
        "!date\n",
        "!echo \"日本時間表示 / JST\"\n",
        "!rm /etc/localtime\n",
        "!ln -s /usr/share/zoneinfo/Japan /etc/localtime\n",
        "!date"
      ],
      "execution_count": 1,
      "outputs": [
        {
          "output_type": "stream",
          "text": [
            "デフォルトの時間表示 / UTC\n",
            "Tue May 19 06:24:49 UTC 2020\n",
            "日本時間表示 / JST\n",
            "Tue May 19 15:24:54 JST 2020\n"
          ],
          "name": "stdout"
        }
      ]
    },
    {
      "cell_type": "markdown",
      "metadata": {
        "id": "_1GNjUd3m21U",
        "colab_type": "text"
      },
      "source": [
        "# 出典\n",
        "\n",
        "筑波大学工学システム学類  \n",
        "データ構造とアルゴリズム\n",
        "担当：亀田能成  \n",
        "2020/05/19.\n"
      ]
    }
  ]
}