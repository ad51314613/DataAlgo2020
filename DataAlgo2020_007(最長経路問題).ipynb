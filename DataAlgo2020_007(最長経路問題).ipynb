{
  "nbformat": 4,
  "nbformat_minor": 0,
  "metadata": {
    "colab": {
      "name": "DataAlgo2020-007(最長経路問題)",
      "provenance": [],
      "collapsed_sections": [],
      "authorship_tag": "ABX9TyPty+gLYTzOamN4/OFTls0o",
      "include_colab_link": true
    },
    "kernelspec": {
      "name": "python3",
      "display_name": "Python 3"
    }
  },
  "cells": [
    {
      "cell_type": "markdown",
      "metadata": {
        "id": "view-in-github",
        "colab_type": "text"
      },
      "source": [
        "<a href=\"https://colab.research.google.com/github/kameda-yoshinari/DataAlgo2020/blob/master/DataAlgo2020_007(%E6%9C%80%E9%95%B7%E7%B5%8C%E8%B7%AF%E5%95%8F%E9%A1%8C).ipynb\" target=\"_parent\"><img src=\"https://colab.research.google.com/assets/colab-badge.svg\" alt=\"Open In Colab\"/></a>"
      ]
    },
    {
      "cell_type": "markdown",
      "metadata": {
        "id": "yRmydXneMgT8",
        "colab_type": "text"
      },
      "source": [
        "# 4.1. 最長経路問題\n",
        "\n",
        "ここでは最長経路問題とそれを解くアルゴリズムについて学ぶ．\n",
        "\n",
        "**いつもの約束**  \n",
        "１つのコードセルだけの実行は Ctrl + Enter．  \n",
        "エディタで「インデント幅（スペース）は4で表示」「行番号を表示」「インデントガイドを表示」．  \n",
        "内部では日本語はUTF-8で表現されている．\n"
      ]
    },
    {
      "cell_type": "markdown",
      "metadata": {
        "id": "CdQdV_MJIlce",
        "colab_type": "text"
      },
      "source": [
        "# 準備\n",
        "\n",
        "インスタンスに接続し起動する．  \n",
        "下記の手順でGoogle Driveをマウントする．  \n",
        "マウント先に移動し，作業フォルダとする．  \n",
        "これによって，インスタンスがリセットされてもGoogle Drive内にファイルが保存されるようにする．"
      ]
    },
    {
      "cell_type": "code",
      "metadata": {
        "id": "DMtqXRXJIPMR",
        "colab_type": "code",
        "colab": {}
      },
      "source": [
        "!echo \"Google Driveをマウントします\"\n",
        "from google.colab import drive \n",
        "drive.mount('/content/drive')"
      ],
      "execution_count": 0,
      "outputs": []
    },
    {
      "cell_type": "code",
      "metadata": {
        "id": "SABzmuELIaj2",
        "colab_type": "code",
        "colab": {}
      },
      "source": [
        "!echo \"今回の作業用フォルダを作成しそこに移動します\"\n",
        "%cd /content/drive/My\\ Drive/\n",
        "%mkdir -p 202004_DataAlgo/DA2020_007\n",
        "%cd       202004_DataAlgo/DA2020_007\n",
        "!ls\n",
        "!echo \"日本時間表示\"\n",
        "!rm /etc/localtime\n",
        "!ln -s /usr/share/zoneinfo/Japan /etc/localtime\n",
        "!date"
      ],
      "execution_count": 0,
      "outputs": []
    },
    {
      "cell_type": "markdown",
      "metadata": {
        "id": "NINxYWNgOSaw",
        "colab_type": "text"
      },
      "source": [
        "ここでは，グラフ5を利用する．  \n",
        "頂点数は8．有向グラフ．閉路なし．\n"
      ]
    },
    {
      "cell_type": "markdown",
      "metadata": {
        "id": "tErWQzIr6Ttp",
        "colab_type": "text"
      },
      "source": [
        "![G5.png](data:image/png;base64,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)"
      ]
    },
    {
      "cell_type": "code",
      "metadata": {
        "id": "rz4_9z4rOQu4",
        "colab_type": "code",
        "colab": {}
      },
      "source": [
        "%%writefile graph5.h\n",
        "// 8 nodes, directed, no cycle.\n",
        "#define N 8\n",
        "int edge[N][N] = {\n",
        "//   0 1 2 3 4 5 6 7\n",
        "\t{0,4,0,0,2,0,0,0}, // 0\n",
        "\t{0,0,0,0,0,0,1,0}, // 1\n",
        "\t{0,0,0,3,0,0,3,0}, // 2\n",
        "\t{0,0,0,0,0,0,0,5}, // 3\n",
        "\t{0,0,0,0,0,2,0,0}, // 4\n",
        "\t{0,0,0,0,0,0,0,0}, // 5\n",
        "\t{0,0,0,0,0,4,0,1}, // 6\n",
        "\t{0,0,0,0,0,0,0,0}  // 7\n",
        "};"
      ],
      "execution_count": 0,
      "outputs": []
    },
    {
      "cell_type": "markdown",
      "metadata": {
        "id": "4s3BWazcz1FB",
        "colab_type": "text"
      },
      "source": [
        "# 最長経路問題概要\n",
        "\n",
        "**内容**\n",
        "\n",
        "グラフとして重み付き有向グラフを考える．辺に重みとして数値が付与されている．\n",
        "本節では，辺の重みは正値とする．\n",
        "隣接する頂点aと頂点bの間の辺の重みをedge(a,b)で表現する．edge(a,b)は正値である．  \n",
        "\n",
        "最長経路問題とは，与えられた重み付き有向グラフにおいて，その重みの合計が最も大きい道を求める問題である．なお，頂点Aから頂点Bへの「道」には，同じ頂点は高々一度しか現れないことに注意する．以降，ある道（経路）が与えられた時，その辺の重みの合計のことを経路（道）の重みと呼ぶ．\n",
        "\n",
        "頂点集合V中のある頂点kについて注目する．\n",
        "頂点kを到着頂点とする道の中で最も重みのある道の重みをW(k)で表すとする．  \n",
        "求めたいのは，頂点集合 V の中で最大の W(k_max) であり，それを実現する道の構成である．  \n",
        "\n",
        "今，ここで，頂点dより上流の全ての頂点sではW(s)がわかっているものとする．  \n",
        "すると，W(d)は次式によって求められる．  \n",
        "> W(d) = max ( W(s) + edge(s,d) )   \n",
        "> ただしsは頂点dに向かって隣接しているすべての頂点  \n",
        "\n",
        "では「頂点dより上流の全ての頂点sではW(s)がわかっているものとする」ことをどうやって保証すればいいのであろうか．それを保証するのがトポロジカルソーティングである．  \n",
        "\n",
        "アルゴリズムは３部構成になる．  \n",
        "\n",
        "1. トポロジカルソーティングを実施する\n",
        "2. 上流から順に頂点kについて W(k) を求めていく\n",
        "3. 全頂点について求めた W( ) において最大の値 W(k_max) を求める\n",
        "\n",
        "**実装**\n",
        "\n",
        "トポロジカルソーティングについては前のプログラムをそのまま流用する．\n",
        "\n",
        "参考までに，グラフ5では最長経路の重みは 9 となる．  \n",
        "Longest Path Value = 9  \n",
        "5 <- 6 <- 1 <- 0 <- Go"
      ]
    },
    {
      "cell_type": "markdown",
      "metadata": {
        "id": "0_o0avWIHZqC",
        "colab_type": "text"
      },
      "source": [
        "# 最長経路問題を解くプログラム\n",
        "\n",
        "**目標**\n",
        "\n",
        "無閉路の有向グラフにおいて最長経路の重みとその経路を求める．\n",
        "\n",
        "**説明**\n",
        "\n",
        "アルゴリズムは３部構成になる．\n",
        "\n",
        "1. トポロジカルソーティングを実施する\n",
        "2. 上流から順に頂点kについて W(k) を求めていく\n",
        "3. 全頂点について求めた W( ) において最大の値 W(k_max) を求める\n",
        "\n",
        "**コード**\n",
        "\n",
        "アルゴリズムを３部構成に分けたので，それぞれをユーザ定義関数で実現する．\n",
        "\n",
        "**備考**\n",
        "\n",
        "アルゴリズムの3.は2.の中に統合できるが，アルゴリズム説明とプログラム記述を揃えるために別関数で用意している．  \n",
        "このプログラムでは，最長経路の重みを求めるだけでなく，最長経路の構成を表示するために工夫をしている．\n"
      ]
    },
    {
      "cell_type": "code",
      "metadata": {
        "id": "Eo2CM8EqZi97",
        "colab_type": "code",
        "colab": {}
      },
      "source": [
        "%%writefile longestpath_J.c\n",
        "// Topological Sorting\n",
        "//    2020/05/24 kameda\n",
        "#include <stdio.h>\n",
        "#include \"graph5.h\"\n",
        "\n",
        "typedef struct {int W; int src;} ppath;\n",
        "\n",
        "int tsort[N];  // トポロジカルソーティング結果を記録するための配列\n",
        "int num_tsort = 0; // 記録済の頂点数\n",
        "ppath path[N]; // 経路を参照できるようにするためのリンクトリスト風配列\n",
        "\n",
        "int listed[N];  // 0 未, 1 済\n",
        "\n",
        "// 深さ優先探索本体 / 再帰呼出\n",
        "void dfs(int CurrentRoom){\n",
        "    int RoomToCheck;\n",
        "\n",
        "\t// 処理済みであることを記録\n",
        "\tlisted[CurrentRoom] = 1;\n",
        "\n",
        "    // 次にどの頂点を列挙していくか検討\n",
        "\tfor (RoomToCheck = 0; RoomToCheck < N; RoomToCheck++) {\n",
        "        if (edge[CurrentRoom][RoomToCheck] != 0 && listed[RoomToCheck] == 0) \n",
        "\t\t\tdfs(RoomToCheck);\n",
        "\t}\n",
        "\n",
        "\t// トポロジカルソーティング\n",
        "\t// printf(\"●●列挙： %d\\n\", CurrentRoom);\n",
        "\ttsort[num_tsort] = CurrentRoom;\n",
        "\tnum_tsort++;\n",
        "\n",
        "\treturn;\n",
        "}\n",
        "\n",
        "// それぞれの頂点での最長経路（最長経路を解くための探索）\n",
        "void findlongest (void) {\n",
        "\tint p; // トポロジカルソート結果配列 tsort 上での注目箇所\n",
        "\tint d; // 検討する頂点の番号\n",
        "\n",
        "\t// Cleaning up\n",
        "\t// 最長経路を計算するための配列を初期化\n",
        "\t{\n",
        "\t\tint i;\n",
        "\t\tfor (i = 0; i < N; i++) {\n",
        "\t\t\tpath[i].W = 0; // the largest cost of the paths that terminates at vertex i\n",
        "\t\t\tpath[i].src = -1; // the src vertex that gives us the path of the largest cost\n",
        "\t\t}\n",
        "\t}\n",
        "\t\n",
        "\t// Take up a vertex from the end of tsort[] (i.e. starting from source vertices)\n",
        "\t// トポロジカルソートの順に上流側から頂点を処理\n",
        "\tfor (p = N-1; p >= 0; p--) {\n",
        "\t\tint s;\n",
        "\t\td = tsort[p];\n",
        "\t\tfor (s = 0; s < N; s++) {\n",
        "\t\t\tif (edge[s][d] > 0 && path[s].W + edge[s][d] > path[d].W) {\n",
        "\t\t\t\tpath[d].W = path[s].W + edge[s][d];\n",
        "\t\t\t\tpath[d].src = s;\n",
        "\t\t\t}\n",
        "\t\t}\n",
        "\t}\n",
        "\n",
        "\treturn;\n",
        "}\n",
        "\n",
        "// 最長経路を求めて表示\n",
        "void findfinalsolution (void) {\n",
        "  \tint LVertex; // 解：最長経路の到着頂点（終点）\n",
        "\tint i;\n",
        "\n",
        "\t// Tentative vertex candidate (of longest path)\n",
        "\t// 頂点0を仮解とする\n",
        "\tLVertex = 0;\n",
        "\n",
        "\t// find the actual (destination) vertex\n",
        "\t// 最長経路の頂点 LNode を探す\n",
        "\tfor (i = 1; i < N; i++) {\n",
        "\t\tif (path[i].W > path[LVertex].W)\n",
        "\t\t\tLVertex = i;\n",
        "\t}\n",
        "\n",
        "\t// Show the longest path\n",
        "\tprintf(\"Longest Path Value = %d\\n\", path[LVertex].W);\n",
        "\tfor (i = LVertex; i >= 0; i = path[i].src)\n",
        "\t\tprintf(\"%d <- \", i);\n",
        "\tprintf(\"Go\\n\");\n",
        "}\n",
        "\n",
        "int main(int argc, char *argv[]){\n",
        "\tint StartingNode;\n",
        "\tint i;\n",
        "\n",
        "\tprintf(\"1. トポロジカルソーティングを開始します．\\n\");\n",
        "\tfor (StartingNode = 0; StartingNode < N; StartingNode++) {\n",
        "\t\tif (listed[StartingNode] == 0) {\n",
        "\t\t\tdfs(StartingNode);\n",
        "\t\t}\n",
        "\t}\n",
        "\tprintf(\"T.Sort 結果 : \");\n",
        "\tfor (i = 0; i < N; i++)\n",
        "\t\tprintf(\"%d \", tsort[i]);\n",
        "\tprintf(\"\\n\");\n",
        "\n",
        "\tprintf(\"2. 最長経路を解くための探索を開始します． \\n\");\n",
        "\tfindlongest();\n",
        "\n",
        "\tprintf(\"3. 最長経路を求めて表示します． \\n\");\n",
        "\tfindfinalsolution();\n",
        "\n",
        "  return 0;\n",
        "}"
      ],
      "execution_count": 0,
      "outputs": []
    },
    {
      "cell_type": "markdown",
      "metadata": {
        "id": "zhechXUNbvva",
        "colab_type": "text"
      },
      "source": [
        "\n",
        "コンパイルしてエラーが無いことを確認．"
      ]
    },
    {
      "cell_type": "code",
      "metadata": {
        "id": "5gxNiHT-bvEd",
        "colab_type": "code",
        "colab": {}
      },
      "source": [
        "!gcc -Wall -o  longestpath_J longestpath_J.c"
      ],
      "execution_count": 0,
      "outputs": []
    },
    {
      "cell_type": "markdown",
      "metadata": {
        "id": "CxBI4UbEcB9L",
        "colab_type": "text"
      },
      "source": [
        "実行．"
      ]
    },
    {
      "cell_type": "code",
      "metadata": {
        "id": "O3zzVD4tcA3h",
        "colab_type": "code",
        "colab": {}
      },
      "source": [
        "!./longestpath_J"
      ],
      "execution_count": 0,
      "outputs": []
    },
    {
      "cell_type": "markdown",
      "metadata": {
        "id": "DY_MbwoPf_9h",
        "colab_type": "text"
      },
      "source": [
        "# 節末課題\n",
        "\n",
        "1. 最長経路の表示の仕組み  \n",
        "最長経路の頂点の並びを表示する仕組みについて，longestpath_J プログラムに即して説明せよ．\n",
        "このとき，構造体ppathのメンバ src に格納されている値について言及すること．\n",
        "\n",
        "2. 計算量  \n",
        "最長経路問題を解く longestpath_J プログラムの時間計算量と空間計算量を議論せよ．\n",
        "\n",
        "3. 閉路の扱い  \n",
        "最長経路問題において，与えるグラフには閉路が存在していないと仮定した．その理由の妥当性を議論せよ．\n",
        "\n",
        "4. 閉路の実際上の扱い  \n",
        "本節の longestpath_J プログラムでは，実際には閉路が含まれるグラフを与えても実行すると結果が出てしまう．\n",
        "これは，閉路があると最長経路が解として得られないはず，ということと矛盾する．\n",
        "本プログラムで実行結果がでるのは，グラフの解釈を都合のよいように勝手に変えているからと考えることができる．  \n",
        "それでは，本プログラムでは，閉路が存在するとき，それをどう解釈しているのか，説明を試みよ．\n",
        "\n",
        "\n",
        "# 出典\n",
        "\n",
        "筑波大学工学システム学類  \n",
        "データ構造とアルゴリズム  \n",
        "担当：亀田能成  \n",
        "2020/06/03.\n"
      ]
    }
  ]
}