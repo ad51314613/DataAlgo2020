{
  "nbformat": 4,
  "nbformat_minor": 0,
  "metadata": {
    "colab": {
      "name": "DataAlgo2020-009(Ｎ対Ｎの最短経路問題)",
      "provenance": [],
      "collapsed_sections": [],
      "authorship_tag": "ABX9TyNNTN+Mxv5/nUaUr6g065iT",
      "include_colab_link": true
    },
    "kernelspec": {
      "name": "python3",
      "display_name": "Python 3"
    }
  },
  "cells": [
    {
      "cell_type": "markdown",
      "metadata": {
        "id": "view-in-github",
        "colab_type": "text"
      },
      "source": [
        "<a href=\"https://colab.research.google.com/github/kameda-yoshinari/DataAlgo2020/blob/master/DataAlgo2020_009(%EF%BC%AE%E5%AF%BE%EF%BC%AE%E3%81%AE%E6%9C%80%E7%9F%AD%E7%B5%8C%E8%B7%AF%E5%95%8F%E9%A1%8C)ext.ipynb\" target=\"_parent\"><img src=\"https://colab.research.google.com/assets/colab-badge.svg\" alt=\"Open In Colab\"/></a>"
      ]
    },
    {
      "cell_type": "markdown",
      "metadata": {
        "id": "yRmydXneMgT8",
        "colab_type": "text"
      },
      "source": [
        "# 4.3. Ｎ対Ｎの最短経路問題\n",
        "\n",
        "ここではグラフ中の任意の２頂点の間の最短経路問題とそれを解くFloydのアルゴリズムについて学ぶ．\n",
        "\n",
        "**いつもの約束**  \n",
        "１つのコードセルだけの実行は Ctrl + Enter．  \n",
        "エディタで「インデント幅（スペース）は4で表示」「行番号を表示」「インデントガイドを表示」．  \n",
        "挿入図は Google Colaboratory  以外では見れない可能性あり．  \n",
        "内部では日本語はUTF-8で表現されている．\n"
      ]
    },
    {
      "cell_type": "markdown",
      "metadata": {
        "id": "CdQdV_MJIlce",
        "colab_type": "text"
      },
      "source": [
        "# 準備\n",
        "\n",
        "インスタンスに接続し起動する．  \n",
        "下記の手順でGoogle Driveをマウントする．  \n",
        "マウント先に移動し，作業フォルダとする．  \n",
        "これによって，インスタンスがリセットされてもGoogle Drive内にファイルが保存されるようにする．"
      ]
    },
    {
      "cell_type": "code",
      "metadata": {
        "id": "DMtqXRXJIPMR",
        "colab_type": "code",
        "colab": {}
      },
      "source": [
        "!echo \"Google Driveをマウントします\"\n",
        "from google.colab import drive \n",
        "drive.mount('/content/drive')"
      ],
      "execution_count": 0,
      "outputs": []
    },
    {
      "cell_type": "code",
      "metadata": {
        "id": "SABzmuELIaj2",
        "colab_type": "code",
        "colab": {}
      },
      "source": [
        "!echo \"今回の作業用フォルダを作成しそこに移動します\"\n",
        "%cd /content/drive/My\\ Drive/\n",
        "%mkdir -p 202004_DataAlgo/DA2020_009\n",
        "%cd       202004_DataAlgo/DA2020_009\n",
        "!ls\n",
        "!echo \"日本時間表示\"\n",
        "!rm /etc/localtime\n",
        "!ln -s /usr/share/zoneinfo/Japan /etc/localtime\n",
        "!date"
      ],
      "execution_count": 0,
      "outputs": []
    },
    {
      "cell_type": "markdown",
      "metadata": {
        "id": "NINxYWNgOSaw",
        "colab_type": "text"
      },
      "source": [
        "本節での説明には，4.2.節(Colab notebook 008)と同じくグラフ6を利用する．  \n",
        "頂点数は8．無向グラフ．ループなし．重みは全て正．  \n",
        "プログラムの解析用に，グラフ7, グラフ8も用意しておく．これらも4.2.節(Colab notebook 008)と同じ内容である．\n",
        "\n"
      ]
    },
    {
      "cell_type": "markdown",
      "metadata": {
        "id": "tErWQzIr6Ttp",
        "colab_type": "text"
      },
      "source": [
        "![image.png](data:image/png;base64,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)"
      ]
    },
    {
      "cell_type": "code",
      "metadata": {
        "id": "rz4_9z4rOQu4",
        "colab_type": "code",
        "colab": {}
      },
      "source": [
        "%%writefile graph6.h\n",
        "// 8 nodes, undirected, no loop, positive weight.\n",
        "// NC means no edges.\n",
        "// NC will be treated as \"inifinity\" on searching the shortest path. \n",
        "#define N 8\n",
        "#define NC 9999 // this big value means both no path and infinity \n",
        "int edge[N][N] = {\n",
        "//     0   1   2   3   4   5   6   7\n",
        "\t{  0,100, NC, NC,145,200, NC, NC}, // 0\n",
        "\t{100,  0, 23, NC, NC, 80, NC, 70}, // 1\n",
        "\t{ NC, 23,  0, 21, NC, 45, 37, NC}, // 2\n",
        "\t{ NC, NC, 21,  0, NC, NC, 18,  5}, // 3\n",
        "\t{145, NC, NC, NC,  0, 20, NC, NC}, // 4\n",
        "\t{200, 80, 45, NC, 20,  0,  2, NC}, // 5\n",
        "\t{ NC, NC, 37, 18, NC,  2,  0,  1}, // 6\n",
        "\t{ NC, 70, NC,  5, NC, NC,  1,  0}  // 7\n",
        "};"
      ],
      "execution_count": 0,
      "outputs": []
    },
    {
      "cell_type": "code",
      "metadata": {
        "id": "68fKClFZFJW5",
        "colab_type": "code",
        "colab": {}
      },
      "source": [
        "%%writefile graph7.h\n",
        "// 4 nodes, directed, positive weight.\n",
        "// NC means no edges.\n",
        "// NC will be treated as \"inifinity\" on searching the shortest path. \n",
        "#define N 4\n",
        "#define NC 9999 // this big value means no path\n",
        "int edge[N][N] = {\n",
        "//     0   1   2   3\n",
        "\t{  0, 10, NC, 40}, // 0\n",
        "\t{ NC,  0, NC, 20}, // 1\n",
        "\t{ NC, NC,  0, NC}, // 2\n",
        "\t{ NC, NC, NC,  0}, // 3\n",
        "};"
      ],
      "execution_count": 0,
      "outputs": []
    },
    {
      "cell_type": "code",
      "metadata": {
        "id": "ZKMrM5a2OUv4",
        "colab_type": "code",
        "colab": {}
      },
      "source": [
        "%%writefile graph8.h\n",
        "// 12 nodes, directed, positive weight.\n",
        "// NC means no edges.\n",
        "// NC will be treated as \"inifinity\" on searching the shortest path. \n",
        "#define N 12\n",
        "#define NC 9999 // this big value means no path\n",
        "int edge[N][N] = {\n",
        "    { 0, 4,NC,NC, 3,NC,NC,NC,NC,NC,NC,NC},\n",
        "    { 4, 0, 1,NC,NC,NC, 2,NC,NC,NC,NC,NC},\n",
        "    {NC, 1, 0, 1,NC,NC,NC, 2,NC,NC,NC,NC},\n",
        "    {NC,NC, 1, 0,NC,NC,NC,NC,NC,NC,NC,NC},\n",
        "    { 3,NC,NC,NC, 0, 1,NC,NC, 1,NC,NC,NC},\n",
        "    {NC,NC,NC,NC, 1, 0, 2,NC,NC, 2, 3,NC},\n",
        "    {NC, 2,NC,NC,NC, 2, 0,NC,NC,NC, 3,NC},\n",
        "    {NC,NC, 2,NC,NC,NC,NC, 0,NC,NC,NC,NC},\n",
        "    {NC,NC,NC,NC, 1,NC,NC,NC, 0,NC,NC,NC},\n",
        "    {NC,NC,NC,NC,NC, 2,NC,NC,NC, 0,NC,NC},\n",
        "    {NC,NC,NC,NC,NC, 3, 3,NC,NC,NC, 0, 1},\n",
        "    {NC,NC,NC,NC,NC,NC,NC,NC,NC,NC, 1, 0}\n",
        "};"
      ],
      "execution_count": 0,
      "outputs": []
    },
    {
      "cell_type": "markdown",
      "metadata": {
        "id": "4s3BWazcz1FB",
        "colab_type": "text"
      },
      "source": [
        "# Ｎ対Ｎの最短経路問題を解くfloydのアルゴリズム\n",
        "\n",
        "**内容**\n",
        "\n",
        "グラフとして重み付き有向グラフを考える．辺に重みとして数値が付与されている．\n",
        "本節では，辺の重みは正値とする．\n",
        "隣接する頂点aと頂点bの間の辺の重みをedge(a,b)で表現する．edge(a,b)は正値である．  \n",
        "\n",
        "最短経路問題とは，与えられた重み付き有向グラフにおいて，指定された２頂点間を結ぶ道を考える時，最も重みの軽い道の重みを求める問題である．ここでは，頂点Aから頂点Bへの「道」には，同じ頂点は高々一度しか現れないものとする．ある道（経路）が与えられた時，その辺の重みの合計のことを経路（道）の重み或いは経路値と呼ぶ．\n",
        "\n",
        "指定された２頂点間に道がない場合は，その経路値は無限大として扱う．\n",
        "\n",
        "解を示す道（経路）ももちろん求めるべきである．\n",
        "\n",
        "**別解としてDijkstraのアルゴリズムの再利用**\n",
        "\n",
        "新しいアルゴリズムを用意する前に，単純な方法を考えてみよう．\n",
        "shortest_dijkstra プログラムを，開始頂点を1からNまで変えながら全て実行すれば解は得られるはずである．\n",
        "この考え方は実に率直で，しかもオーダー表現による議論では，後で説明する floydのアルゴリズムとも変わらない．\n",
        "\n",
        "ただ，floydのアルゴリズムは，これまたプログラミングスタイルとして（Diskstraのアルゴリズムと対極的に）劇的な例なので，本授業で取り上げて説明する．\n",
        "\n",
        "**Floydのアルゴリズム**\n",
        "\n",
        "Ｎ対Ｎの最短経路問題を解くアルゴリズムとして，Floyd（フロイド）のアルゴリズムを学習する．\n",
        "\n",
        "Floydのアルゴリズムは，動的計画法(Dynamic programming)の１つとして知られる．\n",
        "\n",
        ">**（動的計画法）**\n",
        ">\n",
        ">動的計画法の詳細は本授業では省くが，簡単に言えば，下記のようになる．\n",
        ">\n",
        ">1. 元の問題を分割する\n",
        ">2. 分割した問題のそれぞれで解を求める\n",
        ">3. それぞれの問題と解をペアにして覚えておく．\n",
        ">4. 以降同じ問題が来たときは覚えておいた解を引用する（改めて解かない）\n",
        ">5. 上記1-4を可能な限り繰り返す．つまり，元問題を分割して用意した部分問題を解く際に，さらに分割した部分部分問題を解く，とする．\n",
        ">\n",
        ">残念ながら，日常生活で動的計画法を使った処理をヒトが思いつくことはほぼない．これは，動的計画法の立案には緻密な問題検討と解法の設計が必要だからである．\n",
        ">\n",
        ">その代わり，がんばって動的計画法を立案できると，劇的なほどアルゴリズムが洗練され見通しがよくなり，多くの場合は実行時に様々な利点が得られることが多い．\n",
        ">\n",
        ">設計上の難点は，2.の分割を均等にしつつ，5.で再帰的に行えるようにできるか，である．\n",
        "\n",
        "Floydのアルゴリズムにおいて，核となる部分は実は単純である．今，探索の途中にあるとし，頂点Aから頂点Bに至る（今までに見つかっている暫定最短）経路値を W(A,B) とする．\n",
        "頂点A,B,Cについて， W(A,B) が W(A,C) + W(C,B) より小さい，つまり頂点Cを経由したほうが経路値が小さくなるのなら， W(A,B) の値を W(A,C) + W(C,B) の値で更新する．\n",
        "これを繰り返すだけである．\n",
        "\n",
        "問題は，これをいつどの順で行うのか，である．上手な順番を思いつかないと，いつまで経っても答えが得られなかったり，下手をすると堂々巡りするかもしれない．\n",
        "\n",
        "Floydのアルゴリズムでは，これを，「段階的に経由してよい頂点を増やしていく」ことで実現する．この１段１段が部分問題に相当する．\n",
        "さらに，部分問題の解を覚えるのに配列を用いるが，これを巧みに使うことで，解を覚えておくのに必要な領域を極限まで小さくかつ簡潔な表現にしている．\n",
        "\n",
        "それでは実際のアルゴリズムを見てみよう．\n",
        "\n",
        "0. 全ての頂点対A,Bについて，AからBへの暫定経路値 W(A,B) を無限大とする．\n",
        "1. 全ての頂点対A,Bについて，隣接している（直行できる）場合のみ， W(A,B) = edge(A,B) と更新する．\n",
        "2. 新たに経由してもいい頂点kを１つ選ぶ．(実装では k = 1,2,3, ..., N の順に選択）\n",
        "3. 全ての頂点対A,Bについて，W(A,K) + W(K,B) < W(A,B) のときのみ W(A,B) = W(A,K) + W(K,B) と更新する．\n",
        "4. 上記2.と3.を新たに経由してもいい頂点が無くなるまで繰り返す．\n",
        "\n",
        "グラフ6による実行の様子を次図に示す．\n",
        "\n",
        "ステップ1.が終わったところが「直通のみを認めた結果」である．\n",
        "各要素はSrc頂点からDst頂点へ至る経路の暫定最小経路値 W(Src,Dst) が入っている．\n",
        "\n",
        "次に，頂点0 を新たに経由頂点として認めることを考える．この時，\n",
        "\n",
        "* W(Src,Dst)\n",
        "* W(Src,0) + W(0, Dst)\n",
        "\n",
        "という二つの暫定経路値を比較し，更新した場合は桃色で表示している．\n",
        "このとき注意するべきなのは，頂点0から始発する経路と，頂点0に終着する経路は，その暫定最小経路値が変わるはずがないという事実である．つまり，図において，太枠で囲まれた部分は，値の更新が絶対に発生しない．\n",
        "\n",
        "> 仙台と名古屋の間の出張を安く行くように考えている時，それまで直通出張しか許されなかったのが「東京も経由していいよ」と言われれば検討するが，「仙台を経由してもいいよ」と言われても「何意味のないことを言ってるの？」となろう（山形から盛岡に出張を考えている者には意味のある言葉なのだが）．\n",
        "\n",
        "かつ，暫定経路値の２つめの和のほうは，その変わるはずのない経路**のみ**を組み合わせて算出している点にも注意する．次図中では， W(1,4) はそれまで NC であったが， 100+145=245 という新しい値で更新している．このような暫定経路値の吟味と更新を，N*Nのどのセルをどの順で更新しても，この結果が他のセルの実行結果で影響を受けることはない．（その意味でN*Nのセルの更新はN*N並列で実行可能）\n",
        "\n",
        "あとは，これを繰り返していく．次の「頂点1を経由頂点として追加した結果」では，その前提となる暫定経路値は W(Src,1) と　W(1,Dst) である．このどちらも「直行ないし頂点0の経由迄が認められたうちでの最小経路値」が示されていることに注意する．\n",
        "\n",
        "説明しても納得には時間がかかるかもしれない．図を丁寧に追いかけて理解することを望む．ほぼ同等の結果を次のプログラムで表示できるようにしてあるので，グラフを変えてみたりしながら理解して頂きたい．  \n",
        "これが理解できた瞬間に，どうして動的計画法を普段なかなか人間は思いついて実行したりしないかを実感できることであろう．\n",
        "\n",
        "**実装**\n",
        "\n",
        "プログラミングに当たっては難しいところはない．  \n"
      ]
    },
    {
      "cell_type": "markdown",
      "metadata": {
        "id": "OmyZLNNxLTcK",
        "colab_type": "text"
      },
      "source": [
        "![代替テキスト](https://docs.google.com/drawings/d/e/2PACX-1vQJMx9yJ6Rw7k2uKPbzfBmPqXc5Tf6wq1385YQerw6zgTdqvAYG93mxDdMU3R9nT6ULK5riml87llEW/pub?w=658&h=1902)"
      ]
    },
    {
      "cell_type": "markdown",
      "metadata": {
        "id": "0_o0avWIHZqC",
        "colab_type": "text"
      },
      "source": [
        "# Flyodのアルゴリズムに基づくプログラム\n",
        "\n",
        "**目標**\n",
        "\n",
        "正値重みの辺で構成される有向グラフにおいて，グラフ上の任意の頂点対の最小経路値とその経路を求めるＣプログラムを作成する．\n",
        "\n",
        "**説明**\n",
        "\n",
        "Floydのアルゴリズム本体は一つのユーザ定義関数 find_shortest_floyd() で実装する．\n",
        "\n",
        "**コード**\n",
        "\n",
        "C言語では無限大という数は扱えない．それに関連する演算「無限大 + 定数 = 無限大」も扱えない．\n",
        "ここでは，無限大の代わりに十分大きな数（より正確には処理の途中で一時的に得られるであろう暫定経路値の最大値より大きい数）NCを用意し，NCに辺の最大重みを加えてもまだC言語の演算範囲内にあるものとして実装を行う．\n",
        "\n",
        "なお，なにかしら引数を１つ指定すると，上述の解説図と同じような出力が得られるようにしてある．(verboselevel変数に注意してコードを読むこと）\n",
        "\n",
        "\n",
        "**備考**\n",
        "\n",
        "最短経路を実際に求めている部分は本当に解いているのか？と疑いたくなるぐらい短いプログラムである．理解のためにコメント行と表示用コードを差し込んでいるが，試しにそれらを削除してみるとその短さが実感できるであろう．３重ループの内側にif文が1つあるだけなのである．"
      ]
    },
    {
      "cell_type": "code",
      "metadata": {
        "id": "Eo2CM8EqZi97",
        "colab_type": "code",
        "colab": {}
      },
      "source": [
        "%%writefile shortest-floyd_J.c\n",
        "// Shortest path by Floyd\n",
        "//    2020/06/07 kameda\n",
        "#include <stdio.h> // printf()\n",
        "#include <stdlib.h> // atoi()\n",
        "#include \"graph6.h\" // edge[][], N, NC\n",
        "\n",
        "int verboselevel = 0; // 表示レベル 0：通常，1:説明用（アルゴリズムの説明参照）\n",
        "\n",
        "typedef struct {\n",
        "\tint cost; // 暫定経路値（暫定最小値）\n",
        "\tint via; // 経由頂点\n",
        "} CostVia;\n",
        "\n",
        "CostVia pathinfo[N][N]; // \t[a][b] 開始頂点a, 到着頂点b\n",
        "\n",
        "// 全経路の表示（再帰呼出を利用）\n",
        "// この方法だと最終到着頂点は表示されないので注意\n",
        "void outputpath(int SrcNode, int DstNode){\n",
        "\t// 再帰呼び出しの終了条件は「直行便」 (via[s][d]==s)。出発側のみ表示\n",
        "\tif (SrcNode == pathinfo[SrcNode][DstNode].via) {\n",
        "\t\tprintf(\"%2d \", SrcNode);\n",
        "\t} else {\n",
        "\t\t// 経由地の前後のPATHそれぞれ探索して表示\n",
        "\t\toutputpath(SrcNode, pathinfo[SrcNode][DstNode].via);\n",
        "\t\toutputpath(pathinfo[SrcNode][DstNode].via, DstNode);\n",
        "\t}\n",
        "}\n",
        "\n",
        "// 経由行列の表示\n",
        "void print_path_status(void){\n",
        "\tint SrcNode, DstNode;\n",
        "\n",
        "\tif (verboselevel == 0) {\n",
        "\t\tfor (SrcNode = 0; SrcNode < N; SrcNode++) {\n",
        "\t\t\tfor (DstNode = 0; DstNode < N; DstNode++) {\n",
        "\t\t\t\tif (pathinfo[SrcNode][DstNode].cost >= NC) \n",
        "\t\t\t\t\tprintf(\"---(--) \");\n",
        "\t\t\t\telse\n",
        "\t\t\t\t\tprintf(\"%3d(%2d) \", pathinfo[SrcNode][DstNode].cost, pathinfo[SrcNode][DstNode].via);\n",
        "\t\t\t}\n",
        "\t\t\tprintf(\"\\n\");\n",
        "\t\t}\n",
        "\t} else {\n",
        "\t\tfor (SrcNode = 0; SrcNode < N; SrcNode++) {\n",
        "\t\t\tfor (DstNode = 0; DstNode < N; DstNode++) {\n",
        "\t\t\t\tif (pathinfo[SrcNode][DstNode].cost >= NC) \n",
        "\t\t\t\t\tprintf(\"NC\\t\");\n",
        "\t\t\t\telse\n",
        "\t\t\t\t\tprintf(\"%d\\t\", pathinfo[SrcNode][DstNode].cost);\n",
        "\t\t\t\t}\n",
        "\t\t\tprintf(\"\\n\");\n",
        "\t\t}\n",
        "\t}\n",
        "\n",
        "\treturn ;\n",
        "}\n",
        "\n",
        "void find_shortest_floyd(void){\n",
        "\tint SrcNode, DstNode;\n",
        "\tint MidNode; // a.k.a. \"k\"\n",
        "\tint NewCost;\n",
        "\t\n",
        "\t// 直行のみを認める形で初期化\n",
        "\t// 直行できない頂点対の場合はNC（＝直交で行けない）という重みで初期化\n",
        "\tfor (SrcNode = 0; SrcNode < N; SrcNode++) {\n",
        "\t\tfor (DstNode = 0; DstNode < N; DstNode++) {\n",
        "\t\t\tpathinfo[SrcNode][DstNode].cost = edge[SrcNode][DstNode];\n",
        "\t\t\tpathinfo[SrcNode][DstNode].via  = SrcNode; // 直行が解の時は via == SrcNode\n",
        "\t\t}\n",
        "\t}\n",
        "\tprintf(\"直通のみを認めた結果 ===\\n\");\n",
        "\tprint_path_status();\n",
        "\n",
        "\t// 中継に使ってよい頂点(MidNode)を１つずつ増やしていく\n",
        "\t// 新しい中継頂点(MidNode)が使えるようになったら，各頂点間で「その１」「その２」のどちらが最小コストか検討\n",
        "\t// その１: MidNodeを無視して（それより前に認められていた頂点群のみを用いて）到達\n",
        "\t// その２: MidNodeを経由して到達\n",
        "\t//    ※ここで、SrcNode=>MidNodeの最小コストは前段(MidNodeを用いない時点)で確定していることに注意\n",
        "\t//    ※これはMidNode=>DstNodeでも同じ\n",
        "\t//    理由：重みは全て正値なので、MidNodeが経路の端に現れているときに同じMidNodeを中継頂点にしても最小コストになるはずがない\n",
        "\t// 「その２」のほうがコスト小の場合，コスト更新，かつ経由頂点をMidNodeで更新\n",
        "\tfor (MidNode = 0; MidNode < N; MidNode++) {\n",
        "\t\tfor (SrcNode = 0; SrcNode < N; SrcNode++) {\n",
        "\t\t\tfor (DstNode = 0; DstNode < N; DstNode++) {\n",
        "\t\t\t\tNewCost = pathinfo[SrcNode][MidNode].cost + pathinfo[MidNode][DstNode].cost;\n",
        "\t\t\t\tif (NewCost < pathinfo[SrcNode][DstNode].cost) {\n",
        "\t\t\t\t\tpathinfo[SrcNode][DstNode].cost = NewCost;\n",
        "\t\t\t\t\tpathinfo[SrcNode][DstNode].via  = MidNode;\n",
        "\t\t\t\t}\n",
        "\t\t\t}\n",
        "\t\t}\n",
        "\t\tprintf(\"頂点 %2d を経由頂点として追加した結果 ===\\n\", MidNode);\n",
        "\t\tprint_path_status();\n",
        "\t}\n",
        "\n",
        "\t// 結果の表示\n",
        "\tif (verboselevel == 0) {\n",
        "\t\tprintf(\"最短経路問題の答\\n\");\n",
        "\t\tfor (SrcNode = 0; SrcNode < N; SrcNode++) {\n",
        "\t\t\tfor (DstNode = 0; DstNode < N; DstNode++) {\n",
        "\t\t\t\tprintf(\"%2d => %2d: \",SrcNode, DstNode);\n",
        "\t\t\t\tif (pathinfo[SrcNode][DstNode].cost == NC) {\n",
        "\t\t\t\t\tprintf(\"  - : (No path)\");\n",
        "\t\t\t\t} else {\n",
        "\t\t\t\t\tprintf(\"%3d :\", pathinfo[SrcNode][DstNode].cost);\n",
        "\t\t\t\t\toutputpath(SrcNode, DstNode);\n",
        "\t\t\t\t\tprintf(\"%2d\", DstNode);\n",
        "\t\t\t\t}\n",
        "\t\t\t\tprintf(\"\\n\");\n",
        "\t\t\t}\n",
        "\n",
        "\t\t\tprintf(\"\\n\");\n",
        "\t\t}\n",
        "\t}\n",
        "\n",
        "\treturn ;\n",
        "}\n",
        "\n",
        "int main(int argc, char *argv[]){\n",
        "\t  \n",
        "    if (argc >= 2) {\n",
        "\t\tverboselevel = 1;\n",
        "\t\tprintf(\"結果を暫定経路値のみで表示します．\\n\");\n",
        "\t}\n",
        "\n",
        "\tfind_shortest_floyd();\n",
        "\n",
        "\treturn 0;\n",
        "}\n"
      ],
      "execution_count": 0,
      "outputs": []
    },
    {
      "cell_type": "markdown",
      "metadata": {
        "id": "zhechXUNbvva",
        "colab_type": "text"
      },
      "source": [
        "\n",
        "コンパイルしてエラーが無いことを確認．"
      ]
    },
    {
      "cell_type": "code",
      "metadata": {
        "id": "UcFL-3AR8XSu",
        "colab_type": "code",
        "colab": {}
      },
      "source": [
        "!gcc -Wall -o shortest-floyd_J shortest-floyd_J.c"
      ],
      "execution_count": 0,
      "outputs": []
    },
    {
      "cell_type": "markdown",
      "metadata": {
        "id": "CxBI4UbEcB9L",
        "colab_type": "text"
      },
      "source": [
        "実行．\n",
        "コマンドライン引数をなにか付けると，途中の表示がシンプルになる．"
      ]
    },
    {
      "cell_type": "code",
      "metadata": {
        "id": "O3zzVD4tcA3h",
        "colab_type": "code",
        "colab": {}
      },
      "source": [
        "!echo \"シンプル版（途中結果で算定経路値のみ表示）\"\n",
        "!./shortest-floyd_J 0\n",
        "!echo \"通常版（途中結果で経由頂点も表示）\"\n",
        "!./shortest-floyd_J"
      ],
      "execution_count": 0,
      "outputs": []
    },
    {
      "cell_type": "markdown",
      "metadata": {
        "id": "DY_MbwoPf_9h",
        "colab_type": "text"
      },
      "source": [
        "# 節末課題\n",
        "\n",
        "1. 最短経路の表示の仕組み  \n",
        "shortest_floyd Cプログラムにおいて，全ての頂点対の最小経路を表示する部分には再帰呼出関数を用いている．これについて，本プログラムが最小経路を表示している仕組みを説明せよ．特に，via[][]が格納している値について言及しながら説明すること．（参考：去年まではこの部分を自ら作成するのが課題であった．今年から読むだけにしたので，随分簡単な課題にしたものである）\n",
        "\n",
        "\n",
        "2. 計算量  \n",
        "shortest_floyd プログラムの時間計算量と空間計算量を議論せよ．\n",
        "\n",
        "\n",
        "3. 十分大きな数NC  \n",
        "あるグラフが与えられた時，暫定経路値の一時的最大値と最大重み辺が分かれば，NCを決めることができる．これを正確に求めることは難しいが，アルゴリズムの趣旨を考えれば，これは正確な値である必要はない．そこで，グラフの隣接行列が与えられたとして，NCの近似値として役に立つ数字を 時間計算量 O(N^2) で求める簡単な方法を考えてみよ．\n",
        "\n",
        "\n",
        "4. shortest_diskstra プログラムの再利用  \n",
        "N対Nの最短経路問題を解くにあたって，shortest_diskstra プログラムを改良して実現して見よ．プログラム内で開始頂点を1からNまで変更しながら，dijkstraのアルゴリズムを実行するという方針である．改良したプログラムについて，時間計算量と空間計算量を議論せよ．\n",
        "\n",
        "# 出典\n",
        "\n",
        "筑波大学工学システム学類  \n",
        "データ構造とアルゴリズム  \n",
        "担当：亀田能成  \n",
        "2020/06/07. \n",
        "2020/06/10. 図をリンクに差し替え．\n",
        "\n",
        "\n"
      ]
    }
  ]
}