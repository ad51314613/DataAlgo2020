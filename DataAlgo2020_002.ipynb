{
  "nbformat": 4,
  "nbformat_minor": 0,
  "metadata": {
    "colab": {
      "name": "DataAlgo2020-002.ipynb",
      "provenance": [],
      "authorship_tag": "ABX9TyPkFJx1oAX1c0pHlLa7Uk8S",
      "include_colab_link": true
    },
    "kernelspec": {
      "name": "python3",
      "display_name": "Python 3"
    }
  },
  "cells": [
    {
      "cell_type": "markdown",
      "metadata": {
        "id": "view-in-github",
        "colab_type": "text"
      },
      "source": [
        "<a href=\"https://colab.research.google.com/github/kameda-yoshinari/DataAlgo2020/blob/master/DataAlgo2020_002.ipynb\" target=\"_parent\"><img src=\"https://colab.research.google.com/assets/colab-badge.svg\" alt=\"Open In Colab\"/></a>"
      ]
    },
    {
      "cell_type": "markdown",
      "metadata": {
        "id": "i2vKNOZ1ecz8",
        "colab_type": "text"
      },
      "source": [
        "GitHubとの接続テスト用．中身無し．"
      ]
    },
    {
      "cell_type": "code",
      "metadata": {
        "id": "0ygOMeguebow",
        "colab_type": "code",
        "colab": {
          "base_uri": "https://localhost:8080/",
          "height": 54
        },
        "outputId": "a248a9bc-6cd5-4d7c-aa6f-5e6d281a0282"
      },
      "source": [
        "!uname -a"
      ],
      "execution_count": 9,
      "outputs": [
        {
          "output_type": "stream",
          "text": [
            "Linux e9addc644342 4.19.104+ #1 SMP Wed Feb 19 05:26:34 PST 2020 x86_64 x86_64 x86_64 GNU/Linux\n"
          ],
          "name": "stdout"
        }
      ]
    },
    {
      "cell_type": "markdown",
      "metadata": {
        "id": "pNb8UTvw7tyK",
        "colab_type": "text"
      },
      "source": [
        "何かないと寂しいので(002用)．"
      ]
    },
    {
      "cell_type": "code",
      "metadata": {
        "id": "dIGnoX537xlj",
        "colab_type": "code",
        "colab": {
          "base_uri": "https://localhost:8080/",
          "height": 51
        },
        "outputId": "63b1b2ec-7a99-479c-bfa1-9d3527fe8fc4"
      },
      "source": [
        "!date\n",
        "!TZ='Asia/Tokyo'; export TZ; date"
      ],
      "execution_count": 10,
      "outputs": [
        {
          "output_type": "stream",
          "text": [
            "Tue May  5 13:12:43 UTC 2020\n",
            "Tue May  5 22:12:44 JST 2020\n"
          ],
          "name": "stdout"
        }
      ]
    }
  ]
}